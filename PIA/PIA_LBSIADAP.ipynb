{
  "nbformat": 4,
  "nbformat_minor": 0,
  "metadata": {
    "colab": {
      "name": "PIA LBSIADAP",
      "provenance": [],
      "collapsed_sections": []
    },
    "kernelspec": {
      "display_name": "Python 3",
      "name": "python3"
    }
  },
  "cells": [
    {
      "cell_type": "markdown",
      "metadata": {
        "id": "eApE7pWNIr5A"
      },
      "source": [
        ""
      ]
    },
    {
      "cell_type": "code",
      "metadata": {
        "id": "jt4kuikj3yKE",
        "colab": {
          "base_uri": "https://localhost:8080/"
        },
        "outputId": "2d0eb2bd-8b45-44ae-d833-e633afd84545"
      },
      "source": [
        "import pandas as pd \n",
        "from sklearn.model_selection import train_test_split\n",
        "from sklearn import linear_model\n",
        "from sklearn.metrics import mean_squared_error\n",
        "from sklearn.metrics import r2_score\n",
        "import matplotlib.pyplot as plt\n",
        "\n",
        "datos=pd.read_csv('FertilidadPIA.csv',encoding='latin-1')\n",
        "df=pd.DataFrame(datos)\n",
        "x=df['Estación']\n",
        "a=df['Edad']\n",
        "b=df['Enfermedad Unfantil']\n",
        "c=df['Trauma']\n",
        "d=df['Intervención quirúrgica']\n",
        "e=df['Fiebres']\n",
        "f=df['Alcohólico']\n",
        "g=df['Fumar']\n",
        "h=df['Sentado']\n",
        "y=df['Salida']\n",
        "print(\"Datos Originales\")\n",
        "print(df)\n",
        "X_train,X_test,A_train,A_test,B_train,B_test,C_train,C_test,D_train,D_test,E_train,E_test,F_train,F_test,G_train,G_test,H_train,H_test,y_train,y_test=train_test_split(x,a,b,c,d,e,f,g,h,y,test_size=.5)\n",
        "\n",
        "\n",
        "\n",
        "X_train=X_train.values.reshape([X_train.values.shape[-1],1])\n",
        "X_test=X_test.values.reshape([X_test.values.shape[-1],1])\n",
        "\n",
        "A_train=A_train.values.reshape([A_train.values.shape[0],1])\n",
        "A_test=A_test.values.reshape([A_test.values.shape[0],1])\n",
        "\n",
        "B_train=B_train.values.reshape([B_train.values.shape[0],1])\n",
        "B_test=B_test.values.reshape([B_test.values.shape[0],1])\n",
        "\n",
        "C_train=C_train.values.reshape([C_train.values.shape[0],1])\n",
        "C_test=C_test.values.reshape([C_test.values.shape[0],1])\n",
        "\n",
        "D_train=D_train.values.reshape([D_train.values.shape[0],1])\n",
        "D_test=D_test.values.reshape([D_test.values.shape[0],1])\n",
        "\n",
        "E_train=E_train.values.reshape([E_train.values.shape[-1],1])\n",
        "E_test=E_test.values.reshape([E_test.values.shape[-1],1])\n",
        "\n",
        "F_train=F_train.values.reshape([F_train.values.shape[0],1])\n",
        "F_test=F_test.values.reshape([F_test.values.shape[0],1])\n",
        "\n",
        "G_train=G_train.values.reshape([G_train.values.shape[-1],1])\n",
        "G_test=G_test.values.reshape([G_test.values.shape[-1],1])\n",
        "\n",
        "H_train=H_train.values.reshape([H_train.values.shape[0],1])\n",
        "H_test=H_test.values.reshape([H_test.values.shape[0],1])\n",
        "\n",
        "regr=linear_model.LinearRegression()\n",
        "regr.fit(X_train,y_train)\n",
        "y_pred=regr.predict(X_test)\n",
        "\n",
        "regr=linear_model.LinearRegression()\n",
        "regr.fit(A_train,y_train)\n",
        "y_pred2=regr.predict(A_test)\n",
        "\n",
        "regr=linear_model.LinearRegression()\n",
        "regr.fit(B_train,y_train)\n",
        "y_pred3=regr.predict(B_test)\n",
        "\n",
        "regr=linear_model.LinearRegression()\n",
        "regr.fit(C_train,y_train)\n",
        "y_pred4=regr.predict(C_test)\n",
        "\n",
        "regr=linear_model.LinearRegression()\n",
        "regr.fit(D_train,y_train)\n",
        "y_pred5=regr.predict(D_test)\n",
        "\n",
        "regr=linear_model.LinearRegression()\n",
        "regr.fit(E_train,y_train)\n",
        "y_pred6=regr.predict(E_test)\n",
        "\n",
        "regr=linear_model.LinearRegression()\n",
        "regr.fit(F_train,y_train)\n",
        "y_pred7=regr.predict(F_test)\n",
        "\n",
        "regr=linear_model.LinearRegression()\n",
        "regr.fit(G_train,y_train)\n",
        "y_pred8=regr.predict(G_test)\n",
        "\n",
        "regr=linear_model.LinearRegression()\n",
        "regr.fit(H_train,y_train)\n",
        "y_pred9=regr.predict(H_test)\n"
      ],
      "execution_count": null,
      "outputs": [
        {
          "output_type": "stream",
          "text": [
            "Datos Originales\n",
            "    Estación  Edad  Enfermedad Unfantil  ...  Fumar  Sentado  Salida\n",
            "0      -0.33  0.69                    0  ...      0     0.88       1\n",
            "1      -0.33  0.94                    1  ...      1     0.31       0\n",
            "2      -0.33  0.50                    1  ...     -1     0.50       1\n",
            "3      -0.33  0.75                    0  ...     -1     0.38       1\n",
            "4      -0.33  0.67                    1  ...     -1     0.50       0\n",
            "..       ...   ...                  ...  ...    ...      ...     ...\n",
            "95     -1.00  0.67                    1  ...     -1     0.50       1\n",
            "96     -1.00  0.61                    1  ...      0     0.50       1\n",
            "97     -1.00  0.67                    1  ...     -1     0.31       1\n",
            "98     -1.00  0.64                    1  ...      0     0.19       1\n",
            "99     -1.00  0.69                    0  ...     -1     0.19       1\n",
            "\n",
            "[100 rows x 10 columns]\n"
          ],
          "name": "stdout"
        }
      ]
    },
    {
      "cell_type": "code",
      "metadata": {
        "colab": {
          "base_uri": "https://localhost:8080/",
          "height": 416
        },
        "id": "_uvYLEERXBDU",
        "outputId": "8f268497-be8b-4dc4-a447-9c531a826b80"
      },
      "source": [
        "print(\"Error de prediccion entre y de prueba y el valor de la prediccion entre la variable estacion y salida\",mean_squared_error(y_test,y_pred))\n",
        "print(\"EL valor de r^2:\",r2_score(y_test,y_pred))\n",
        "print(\"\\n\")\n",
        "print(\"Interpretacion del grafico \")\n",
        "print(\"\\n\")\n",
        "print(\"En el segmento de puntos rojos y azules representa los valores de prueba y de entrenamiento de la variable estacion y salida\")\n",
        "plt.scatter(X_train,y_train,color='blue')\n",
        "plt.scatter(X_test,y_pred,color='red')"
      ],
      "execution_count": null,
      "outputs": [
        {
          "output_type": "stream",
          "text": [
            "Error de prediccion entre y de prueba y el valor de la prediccion entre la variable estacion y salida 0.10167743967481671\n",
            "EL valor de r^2: -0.1297493297201857\n",
            "\n",
            "\n",
            "Interpretacion del grafico \n",
            "\n",
            "\n",
            "En el segmento de puntos rojos y azules representa los valores de prueba y de entrenamiento de la variable estacion y salida\n"
          ],
          "name": "stdout"
        },
        {
          "output_type": "execute_result",
          "data": {
            "text/plain": [
              "<matplotlib.collections.PathCollection at 0x7f011b56fa50>"
            ]
          },
          "metadata": {
            "tags": []
          },
          "execution_count": 44
        },
        {
          "output_type": "display_data",
          "data": {
            "image/png": "[encoded data removed]",
            "text/plain": [
              "<Figure size 432x288 with 1 Axes>"
            ]
          },
          "metadata": {
            "tags": [],
            "needs_background": "light"
          }
        }
      ]
    },
    {
      "cell_type": "code",
      "metadata": {
        "colab": {
          "base_uri": "https://localhost:8080/",
          "height": 416
        },
        "id": "y2pS0B16XBe7",
        "outputId": "39b86548-76f6-4411-fb8c-a3e988acbce1"
      },
      "source": [
        "print(\"Error de prediccion entre y de prueba y el valor de la prediccion entre la variable Edad y salida:\",mean_squared_error(y_test,y_pred2))\n",
        "print(\"EL valor de coeficiente de determinación entre la variabiable Edad y salida\",r2_score(y_test,y_pred2))\n",
        "print(\"\\n\")\n",
        "print(\"Interpretacion del grafico \")\n",
        "print(\"En el segmento de puntos grices y plateados representa los valores de prueba y de entrenamiento de la variable Edad y salida\")\n",
        "print(\"\\n\")\n",
        "plt.scatter(A_train,y_train,color='Silver')\n",
        "plt.scatter(A_test,y_pred2,color='Gray')"
      ],
      "execution_count": null,
      "outputs": [
        {
          "output_type": "stream",
          "text": [
            "Error de prediccion entre y de prueba y el valor de la prediccion entre la variable Edad y salida: 0.09038533153197804\n",
            "EL valor de coeficiente de determinación entre la variabiable Edad y salida -0.004281461466422609\n",
            "\n",
            "\n",
            "Interpretacion del grafico \n",
            "En el segmento de puntos grices y plateados representa los valores de prueba y de entrenamiento de la variable Edad y salida\n",
            "\n",
            "\n"
          ],
          "name": "stdout"
        },
        {
          "output_type": "execute_result",
          "data": {
            "text/plain": [
              "<matplotlib.collections.PathCollection at 0x7f011b453650>"
            ]
          },
          "metadata": {
            "tags": []
          },
          "execution_count": 46
        },
        {
          "output_type": "display_data",
          "data": {
            "image/png": "[encoded data removed]",
            "text/plain": [
              "<Figure size 432x288 with 1 Axes>"
            ]
          },
          "metadata": {
            "tags": [],
            "needs_background": "light"
          }
        }
      ]
    },
    {
      "cell_type": "code",
      "metadata": {
        "colab": {
          "base_uri": "https://localhost:8080/",
          "height": 416
        },
        "id": "RuckFDMjXBpL",
        "outputId": "f425d99e-7128-4150-a235-30304b99e28c"
      },
      "source": [
        "print(\"Error de prediccion entre y de prueba y el valor de la prediccion entre la variable Enfermedad Infatil y salida:\",mean_squared_error(y_test,y_pred3))\n",
        "print(\"EL valor de coeficiente de determinación entre la variabiable Enfermedad Infantil y salida :\",r2_score(y_test,y_pred3))\n",
        "print(\"\\n\")\n",
        "print(\"Interpretacion del grafico \")\n",
        "print(\"En el segmento de puntos verde  y amarillo representa los valores de prueba y de entrenamiento de la variable Enfermadad infantil y salida\")\n",
        "print(\"\\n\")\n",
        "plt.scatter(B_train,y_train,color='Yellow')\n",
        "plt.scatter(B_test,y_pred3,color='Olive')"
      ],
      "execution_count": null,
      "outputs": [
        {
          "output_type": "stream",
          "text": [
            "Error de prediccion entre y de prueba y el valor de la prediccion entre la variable Enfermedad Infatil y salida: 0.09433128544423443\n",
            "EL valor de coeficiente de determinación entre la variabiable Enfermedad Infantil y salida : -0.048125393824826945\n",
            "\n",
            "\n",
            "Interpretacion del grafico \n",
            "En el segmento de puntos verde  y amarillo representa los valores de prueba y de entrenamiento de la variable Enfermadad infantil y salida\n",
            "\n",
            "\n"
          ],
          "name": "stdout"
        },
        {
          "output_type": "execute_result",
          "data": {
            "text/plain": [
              "<matplotlib.collections.PathCollection at 0x7f011b40fb50>"
            ]
          },
          "metadata": {
            "tags": []
          },
          "execution_count": 47
        },
        {
          "output_type": "display_data",
          "data": {
            "image/png": "[encoded data removed]",
            "text/plain": [
              "<Figure size 432x288 with 1 Axes>"
            ]
          },
          "metadata": {
            "tags": [],
            "needs_background": "light"
          }
        }
      ]
    },
    {
      "cell_type": "code",
      "metadata": {
        "colab": {
          "base_uri": "https://localhost:8080/",
          "height": 416
        },
        "id": "6h00PpPqXBxk",
        "outputId": "e6be4574-3b0e-4cdb-b4e7-2224eee79546"
      },
      "source": [
        "print(\"Error de prediccion entre y de prueba y el valor de la prediccion entre la variable Trauma y salida:\",mean_squared_error(y_test,y_pred4))\n",
        "print(\"EL valor de coeficiente de determinación entre la variabiable Trauma y Salida:\",r2_score(y_test,y_pred4))\n",
        "print(\"\\n\")\n",
        "print(\"Interpretacion del grafico \")\n",
        "print(\"En el segmento de puntos azul Teal y aqua representa los valores de prueba y de entrenamiento de la variable Trauma y salida\")\n",
        "print(\"\\n\")\n",
        "plt.scatter(C_train,y_train,color='Aqua')\n",
        "plt.scatter(C_test,y_pred4,color='Teal')"
      ],
      "execution_count": null,
      "outputs": [
        {
          "output_type": "stream",
          "text": [
            "Error de prediccion entre y de prueba y el valor de la prediccion entre la variable Trauma y salida: 0.08882892356308357\n",
            "EL valor de coeficiente de determinación entre la variabiable Trauma y Salida: 0.0130119604101826\n",
            "\n",
            "\n",
            "Interpretacion del grafico \n",
            "En el segmento de puntos azul Teal y aqua representa los valores de prueba y de entrenamiento de la variable Trauma y salida\n",
            "\n",
            "\n"
          ],
          "name": "stdout"
        },
        {
          "output_type": "execute_result",
          "data": {
            "text/plain": [
              "<matplotlib.collections.PathCollection at 0x7f011b34e390>"
            ]
          },
          "metadata": {
            "tags": []
          },
          "execution_count": 49
        },
        {
          "output_type": "display_data",
          "data": {
            "image/png": "[encoded data removed]",
            "text/plain": [
              "<Figure size 432x288 with 1 Axes>"
            ]
          },
          "metadata": {
            "tags": [],
            "needs_background": "light"
          }
        }
      ]
    },
    {
      "cell_type": "code",
      "metadata": {
        "colab": {
          "base_uri": "https://localhost:8080/",
          "height": 416
        },
        "id": "UchBrmgjXB4r",
        "outputId": "65b3ab9b-64f4-499a-af93-2b190328e077"
      },
      "source": [
        "print(\"Error de prediccion entre y de prueba y el valor de la prediccion entre la variable Intervicion quirurgica  y salida:\",mean_squared_error(y_test,y_pred5))\n",
        "print(\"EL valor de coeficiente de determinación entre la variabiable Intervicion quirurgica y salida  :\",r2_score(y_test,y_pred5))\n",
        "print(\"\\n\")\n",
        "print(\"Interpretacion del grafico \")\n",
        "print(\"En el segmento de puntos celeste y azul navi representa los valores de prueba y de entrenamiento de la variable Intervicion quirurgica  y salida\")\n",
        "print(\"\\n\")\n",
        "plt.scatter(D_train,y_train,color='Navy')\n",
        "plt.scatter(D_test,y_pred5,color='#5DADE2')"
      ],
      "execution_count": null,
      "outputs": [
        {
          "output_type": "stream",
          "text": [
            "Error de prediccion entre y de prueba y el valor de la prediccion entre la variable Intervicion quirurgica  y salida: 0.09541748849441158\n",
            "EL valor de coeficiente de determinación entre la variabiable Intervicion quirurgica y salida  : -0.060194316604573084\n",
            "\n",
            "\n",
            "Interpretacion del grafico \n",
            "En el segmento de puntos celeste y azul navi representa los valores de prueba y de entrenamiento de la variable Intervicion quirurgica  y salida\n",
            "\n",
            "\n"
          ],
          "name": "stdout"
        },
        {
          "output_type": "execute_result",
          "data": {
            "text/plain": [
              "<matplotlib.collections.PathCollection at 0x7f011b280750>"
            ]
          },
          "metadata": {
            "tags": []
          },
          "execution_count": 50
        },
        {
          "output_type": "display_data",
          "data": {
            "image/png": "[encoded data removed]",
            "text/plain": [
              "<Figure size 432x288 with 1 Axes>"
            ]
          },
          "metadata": {
            "tags": [],
            "needs_background": "light"
          }
        }
      ]
    },
    {
      "cell_type": "code",
      "metadata": {
        "colab": {
          "base_uri": "https://localhost:8080/",
          "height": 416
        },
        "id": "6d1owWkpXB_j",
        "outputId": "2110b7a8-df11-450b-cd1e-f85c217d41b4"
      },
      "source": [
        "print(\"Error de prediccion entre y de prueba y el valor de la prediccion entre la variable Fiebres y salida:\",mean_squared_error(y_test,y_pred6))\n",
        "print(\"EL valor de coeficiente de determinación entre la variabiable Fiebres y salida:\",r2_score(y_test,y_pred6))\n",
        "print(\"\\n\")\n",
        "print(\"Interpretacion del grafico \")\n",
        "print(\"En el segmento de puntos rojo fuerte y naranja representa los valores de prueba y de entrenamiento de la variable Fiebres y salida\")\n",
        "print(\"\\n\")\n",
        "plt.scatter(E_train,y_train,color='#F39C12')\n",
        "plt.scatter(E_test,y_pred6,color='#F8C471ed')"
      ],
      "execution_count": null,
      "outputs": [
        {
          "output_type": "stream",
          "text": [
            "Error de prediccion entre y de prueba y el valor de la prediccion entre la variable Fiebres y salida: 0.08983342378459763\n",
            "EL valor de coeficiente de determinación entre la variabiable Fiebres y salida: 0.00185084683780401\n",
            "\n",
            "\n",
            "Interpretacion del grafico \n",
            "En el segmento de puntos rojo fuerte y naranja representa los valores de prueba y de entrenamiento de la variable Fiebres y salida\n",
            "\n",
            "\n"
          ],
          "name": "stdout"
        },
        {
          "output_type": "execute_result",
          "data": {
            "text/plain": [
              "<matplotlib.collections.PathCollection at 0x7f011bb77e50>"
            ]
          },
          "metadata": {
            "tags": []
          },
          "execution_count": 51
        },
        {
          "output_type": "display_data",
          "data": {
            "image/png": "[encoded data removed]",
            "text/plain": [
              "<Figure size 432x288 with 1 Axes>"
            ]
          },
          "metadata": {
            "tags": [],
            "needs_background": "light"
          }
        }
      ]
    },
    {
      "cell_type": "code",
      "metadata": {
        "colab": {
          "base_uri": "https://localhost:8080/",
          "height": 416
        },
        "id": "gwWaaDZ4XCGc",
        "outputId": "2dd6aed8-f5b1-47be-ab72-aab46304b5b1"
      },
      "source": [
        "print(\"Error de prediccion entre y de prueba y el valor de la prediccion entre la variable Alcohólico y salida:\",mean_squared_error(y_test,y_pred7))\n",
        "print(\"EL valor de coeficiente de determinación entre la variabiable Alcohólico y salida :\",r2_score(y_test,y_pred7))\n",
        "print(\"\\n\")\n",
        "print(\"Interpretacion del grafico \")\n",
        "print(\"En el segmento de puntos rojo bajo y rojo claro representa los valores de prueba y de entrenamiento de la variable Alcohólico y salida\")\n",
        "print(\"\\n\")\n",
        "plt.scatter(F_train,y_train,color='#EC7063')\n",
        "plt.scatter(F_test,y_pred7,color='#E74C3C')"
      ],
      "execution_count": null,
      "outputs": [
        {
          "output_type": "stream",
          "text": [
            "Error de prediccion entre y de prueba y el valor de la prediccion entre la variable Alcohólico y salida: 0.08862294200212938\n",
            "EL valor de coeficiente de determinación entre la variabiable Alcohólico y salida : 0.015300644420784604\n",
            "\n",
            "\n",
            "Interpretacion del grafico \n",
            "En el segmento de puntos rojo bajo y rojo claro representa los valores de prueba y de entrenamiento de la variable Alcohólico y salida\n",
            "\n",
            "\n"
          ],
          "name": "stdout"
        },
        {
          "output_type": "execute_result",
          "data": {
            "text/plain": [
              "<matplotlib.collections.PathCollection at 0x7f011b514490>"
            ]
          },
          "metadata": {
            "tags": []
          },
          "execution_count": 52
        },
        {
          "output_type": "display_data",
          "data": {
            "image/png": "[encoded data removed]",
            "text/plain": [
              "<Figure size 432x288 with 1 Axes>"
            ]
          },
          "metadata": {
            "tags": [],
            "needs_background": "light"
          }
        }
      ]
    },
    {
      "cell_type": "code",
      "metadata": {
        "colab": {
          "base_uri": "https://localhost:8080/",
          "height": 416
        },
        "id": "lej3hy_zXCM9",
        "outputId": "16df4ef7-fce2-4090-9b2b-dfa8e4447b4a"
      },
      "source": [
        "print(\"Error de prediccion entre y de prueba y el valor de la prediccion entre la variable Fumar y salida:\",mean_squared_error(y_test,y_pred8))\n",
        "print(\"EL valor de coeficiente de determinación entre la variabiable Fumar y salida:\",r2_score(y_test,y_pred8))\n",
        "print(\"\\n\")\n",
        "print(\"Interpretacion del grafico \")\n",
        "print(\"En el segmento de puntos azul verdoso y azul representa los valores de prueba y de entrenamiento de la variable Fumar y salida\")\n",
        "print(\"\\n\")\n",
        "plt.scatter(G_train,y_train,color='#5499C7')\n",
        "plt.scatter(G_test,y_pred8,color='#48C9B0')"
      ],
      "execution_count": null,
      "outputs": [
        {
          "output_type": "stream",
          "text": [
            "Error de prediccion entre y de prueba y el valor de la prediccion entre la variable Fumar y salida: 0.12284399216201657\n",
            "EL valor de coeficiente de determinación entre la variabiable Fumar y salida: -0.020298938222729213\n",
            "\n",
            "\n",
            "Interpretacion del grafico \n",
            "En el segmento de puntos azul verdoso y azul representa los valores de prueba y de entrenamiento de la variable Fumar y salida\n",
            "\n",
            "\n"
          ],
          "name": "stdout"
        },
        {
          "output_type": "execute_result",
          "data": {
            "text/plain": [
              "<matplotlib.collections.PathCollection at 0x7f011b744fd0>"
            ]
          },
          "metadata": {
            "tags": []
          },
          "execution_count": 32
        },
        {
          "output_type": "display_data",
          "data": {
            "image/png": "[encoded data removed]",
            "text/plain": [
              "<Figure size 432x288 with 1 Axes>"
            ]
          },
          "metadata": {
            "tags": [],
            "needs_background": "light"
          }
        }
      ]
    },
    {
      "cell_type": "code",
      "metadata": {
        "colab": {
          "base_uri": "https://localhost:8080/",
          "height": 416
        },
        "id": "mw77kf2TVL2l",
        "outputId": "06ba25a9-a32c-4751-d80d-5e653deec329"
      },
      "source": [
        "print(\"Error de prediccion entre y de prueba y el valor de la prediccion entre la variable Sentado y salida:\",mean_squared_error(y_test,y_pred9))\n",
        "print(\"EL valor de coeficiente de determinación entre la variabiable Sentado y salida \",r2_score(y_test,y_pred9))\n",
        "print(\"\\n\")\n",
        "print(\"Interpretacion del grafico \")\n",
        "print(\"En el segmento de puntos verde y lima representa los valores de prueba y de entrenamiento de la variable Sentado y salida\")\n",
        "print(\"\\n\")\n",
        "plt.scatter(H_train,y_train,color='Lime')\n",
        "plt.scatter(H_test,y_pred9,color='Green')"
      ],
      "execution_count": null,
      "outputs": [
        {
          "output_type": "stream",
          "text": [
            "Error de prediccion entre y de prueba y el valor de la prediccion entre la variable Sentado y salida: 0.12244283621284963\n",
            "EL valor de coeficiente de determinación entre la variabiable Sentado y salida  -0.016967078179814354\n",
            "\n",
            "\n",
            "Interpretacion del grafico \n",
            "En el segmento de puntos verde y lima representa los valores de prueba y de entrenamiento de la variable Sentado y salida\n",
            "\n",
            "\n"
          ],
          "name": "stdout"
        },
        {
          "output_type": "execute_result",
          "data": {
            "text/plain": [
              "<matplotlib.collections.PathCollection at 0x7f011baad790>"
            ]
          },
          "metadata": {
            "tags": []
          },
          "execution_count": 33
        },
        {
          "output_type": "display_data",
          "data": {
            "image/png": "[encoded data removed]",
            "text/plain": [
              "<Figure size 432x288 with 1 Axes>"
            ]
          },
          "metadata": {
            "tags": [],
            "needs_background": "light"
          }
        }
      ]
    }
  ]
}